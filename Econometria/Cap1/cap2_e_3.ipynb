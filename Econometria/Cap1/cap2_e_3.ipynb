{
 "cells": [
  {
   "cell_type": "code",
   "execution_count": 175,
   "id": "cd9ef417",
   "metadata": {},
   "outputs": [],
   "source": [
    "import pandas as pd\n",
    "import numpy as np\n",
    "import matplotlib.pyplot as plt\n",
    "import seaborn as sns\n",
    "from sklearn.linear_model import LinearRegression\n",
    "from sklearn.metrics import mean_squared_error, r2_score"
   ]
  },
  {
   "cell_type": "markdown",
   "id": "43314db8",
   "metadata": {},
   "source": [
    "## 2.14 Com os dados da Tabela 2.7 relativos aos Estados Unidos nos período 1980-2006: a. Represente graficamente a relação entre a taxa de participação dos homens na força de trabalho civil e a taxa de desemprego civil dos homens. Trace, a olho, uma linha de regres\u0002são que passe pelos pontos. A priori, qual a relação esperada entre as duas variáveis e em que teoria econômica está embasada? O diagrama de dispersão respalda essa teoria?"
   ]
  },
  {
   "cell_type": "markdown",
   "id": "c00b8bce",
   "metadata": {},
   "source": [
    "Fonte: Economic Report of the President, 2007.\n",
    "As citações abaixo se referem ao documento original.\n",
    "1\n",
    "TPFTCH, Taxa de participação na força de trabalho civil, homens (%), Tabela B-39, p.277.\n",
    "2\n",
    "TPFTCM, Taxa de participação na força de trabalho civil, mulheres (%), Tabela B-39, p.277.\n",
    "3\n",
    "TDCH, Taxa de desemprego civil, homens (%), Tabela B-42, p.280.\n",
    "4\n",
    "TDCM, Taxa de desemprego civil, mulheres (%), Tabela B-42, p.280.\n",
    "5\n",
    "GMH82, ganho médio por hora (em dólares de 1982), Tabela B-47, p.286.\n",
    "6\n",
    "GMH, ganho médio por hora (em dólares correntes), Tabela B-47, p.286"
   ]
  },
  {
   "cell_type": "code",
   "execution_count": 6,
   "id": "5ccaa7de",
   "metadata": {},
   "outputs": [],
   "source": [
    "work = pd.read_excel(\"../dados/work_eua.xls\")"
   ]
  },
  {
   "cell_type": "code",
   "execution_count": 8,
   "id": "1e1c3f1a",
   "metadata": {},
   "outputs": [],
   "source": [
    "work.dropna(inplace=True)"
   ]
  },
  {
   "cell_type": "code",
   "execution_count": 9,
   "id": "f2b827b1",
   "metadata": {},
   "outputs": [
    {
     "data": {
      "text/html": [
       "<div>\n",
       "<style scoped>\n",
       "    .dataframe tbody tr th:only-of-type {\n",
       "        vertical-align: middle;\n",
       "    }\n",
       "\n",
       "    .dataframe tbody tr th {\n",
       "        vertical-align: top;\n",
       "    }\n",
       "\n",
       "    .dataframe thead th {\n",
       "        text-align: right;\n",
       "    }\n",
       "</style>\n",
       "<table border=\"1\" class=\"dataframe\">\n",
       "  <thead>\n",
       "    <tr style=\"text-align: right;\">\n",
       "      <th></th>\n",
       "      <th>ano</th>\n",
       "      <th>TPFTCH2</th>\n",
       "      <th>TPFTCM</th>\n",
       "      <th>TDCH</th>\n",
       "      <th>TDCM</th>\n",
       "      <th>GMH</th>\n",
       "      <th>GMH82</th>\n",
       "    </tr>\n",
       "  </thead>\n",
       "  <tbody>\n",
       "    <tr>\n",
       "      <th>5</th>\n",
       "      <td>1964</td>\n",
       "      <td>81.0</td>\n",
       "      <td>38.7</td>\n",
       "      <td>4.6</td>\n",
       "      <td>6.2</td>\n",
       "      <td>2.53</td>\n",
       "      <td>7.86</td>\n",
       "    </tr>\n",
       "    <tr>\n",
       "      <th>6</th>\n",
       "      <td>1965</td>\n",
       "      <td>80.7</td>\n",
       "      <td>39.3</td>\n",
       "      <td>4.0</td>\n",
       "      <td>5.5</td>\n",
       "      <td>2.63</td>\n",
       "      <td>8.04</td>\n",
       "    </tr>\n",
       "    <tr>\n",
       "      <th>7</th>\n",
       "      <td>1966</td>\n",
       "      <td>80.4</td>\n",
       "      <td>40.3</td>\n",
       "      <td>3.2</td>\n",
       "      <td>4.8</td>\n",
       "      <td>2.73</td>\n",
       "      <td>8.13</td>\n",
       "    </tr>\n",
       "    <tr>\n",
       "      <th>8</th>\n",
       "      <td>1967</td>\n",
       "      <td>80.4</td>\n",
       "      <td>41.1</td>\n",
       "      <td>3.1</td>\n",
       "      <td>5.2</td>\n",
       "      <td>2.85</td>\n",
       "      <td>8.21</td>\n",
       "    </tr>\n",
       "    <tr>\n",
       "      <th>9</th>\n",
       "      <td>1968</td>\n",
       "      <td>80.1</td>\n",
       "      <td>41.6</td>\n",
       "      <td>2.9</td>\n",
       "      <td>4.8</td>\n",
       "      <td>3.02</td>\n",
       "      <td>8.37</td>\n",
       "    </tr>\n",
       "  </tbody>\n",
       "</table>\n",
       "</div>"
      ],
      "text/plain": [
       "    ano  TPFTCH2  TPFTCM  TDCH  TDCM   GMH  GMH82\n",
       "5  1964     81.0    38.7   4.6   6.2  2.53   7.86\n",
       "6  1965     80.7    39.3   4.0   5.5  2.63   8.04\n",
       "7  1966     80.4    40.3   3.2   4.8  2.73   8.13\n",
       "8  1967     80.4    41.1   3.1   5.2  2.85   8.21\n",
       "9  1968     80.1    41.6   2.9   4.8  3.02   8.37"
      ]
     },
     "execution_count": 9,
     "metadata": {},
     "output_type": "execute_result"
    }
   ],
   "source": [
    "work.head()"
   ]
  },
  {
   "cell_type": "code",
   "execution_count": 26,
   "id": "7de65c7a",
   "metadata": {},
   "outputs": [],
   "source": [
    "ano = work['ano'].values\n",
    "homem_civil =  work['TPFTCH2'].values\n",
    "mulher_civil = work['TPFTCM'].values\n",
    "h_dolar = work['GMH82'].values"
   ]
  },
  {
   "cell_type": "code",
   "execution_count": 25,
   "id": "4f9aa06d",
   "metadata": {},
   "outputs": [
    {
     "data": {
      "image/png": "[encoded data removed]",
      "text/plain": [
       "<Figure size 432x288 with 1 Axes>"
      ]
     },
     "metadata": {
      "needs_background": "light"
     },
     "output_type": "display_data"
    }
   ],
   "source": [
    "plt.plot(ano,homem_civil,ano,mulher_civil)\n",
    "plt.grid(True)\n",
    "plt.legend(['Homem','Mulher'])\n",
    "plt.title('Taxa de participação na força de trabalho civil - EUA')\n",
    "plt.xlabel('Ano')\n",
    "plt.show()"
   ]
  },
  {
   "cell_type": "code",
   "execution_count": 29,
   "id": "c7938978",
   "metadata": {},
   "outputs": [
    {
     "data": {
      "image/png": "[encoded data removed]",
      "text/plain": [
       "<Figure size 432x288 with 1 Axes>"
      ]
     },
     "metadata": {
      "needs_background": "light"
     },
     "output_type": "display_data"
    }
   ],
   "source": [
    "plt.plot(ano,h_dolar)\n",
    "plt.grid(True)\n",
    "plt.title('Ganho médio por trabalhador/hora - em dólar de 1982')\n",
    "plt.xlabel('Ano')\n",
    "plt.show()"
   ]
  },
  {
   "cell_type": "code",
   "execution_count": 16,
   "id": "59d69f0d",
   "metadata": {},
   "outputs": [
    {
     "data": {
      "text/plain": [
       "[<matplotlib.lines.Line2D at 0x1d1ef88a8e0>]"
      ]
     },
     "execution_count": 16,
     "metadata": {},
     "output_type": "execute_result"
    },
    {
     "data": {
      "image/png": "[encoded data removed]",
      "text/plain": [
       "<Figure size 432x288 with 1 Axes>"
      ]
     },
     "metadata": {
      "needs_background": "light"
     },
     "output_type": "display_data"
    }
   ],
   "source": [
    "plt.plot(ano,mulher_civil)"
   ]
  },
  {
   "cell_type": "markdown",
   "id": "ccca14cb",
   "metadata": {},
   "source": [
    "## Exercício 3.22 - A Tabela 3.7 apresenta dados relativos a preços do ouro, índice de preços ao consumidor (IPC) e o índice Nyse da Bolsa de Valores de Nova York para o período 1974-2006. O índice Nyse inclui mais de 1.500 ações negociadas nessa bolsa"
   ]
  },
  {
   "cell_type": "code",
   "execution_count": 31,
   "id": "fa0c1bdf",
   "metadata": {},
   "outputs": [
    {
     "name": "stdout",
     "output_type": "stream",
     "text": [
      "Collecting yahoo-finance\n",
      "  Downloading yahoo-finance-1.4.0.tar.gz (8.9 kB)\n",
      "Requirement already satisfied: pytz in c:\\users\\rober\\anaconda3\\lib\\site-packages (from yahoo-finance) (2021.1)\n",
      "Collecting simplejson\n",
      "  Downloading simplejson-3.18.0-cp38-cp38-win_amd64.whl (76 kB)\n",
      "Building wheels for collected packages: yahoo-finance\n",
      "  Building wheel for yahoo-finance (setup.py): started\n",
      "  Building wheel for yahoo-finance (setup.py): finished with status 'done'\n",
      "  Created wheel for yahoo-finance: filename=yahoo_finance-1.4.0-py3-none-any.whl size=7232 sha256=5245a815ee9a268f3f0f71aa2c6cc1f1cc9a390fa901f65d99c60fa8164c35e2\n",
      "  Stored in directory: c:\\users\\rober\\appdata\\local\\pip\\cache\\wheels\\80\\c8\\73\\b05bf4d7f056ee7be447dedbc38e2acaf923e2c70828605f34\n",
      "Successfully built yahoo-finance\n",
      "Installing collected packages: simplejson, yahoo-finance\n",
      "Successfully installed simplejson-3.18.0 yahoo-finance-1.4.0\n"
     ]
    }
   ],
   "source": [
    "!pip install yahoo-finance"
   ]
  },
  {
   "cell_type": "code",
   "execution_count": 35,
   "id": "a033d8f5",
   "metadata": {},
   "outputs": [
    {
     "name": "stdout",
     "output_type": "stream",
     "text": [
      "Requirement already satisfied: pandas-datareader in c:\\users\\rober\\anaconda3\\lib\\site-packages (0.10.0)\n",
      "Requirement already satisfied: lxml in c:\\users\\rober\\anaconda3\\lib\\site-packages (from pandas-datareader) (4.6.3)\n",
      "Requirement already satisfied: pandas>=0.23 in c:\\users\\rober\\anaconda3\\lib\\site-packages (from pandas-datareader) (1.2.4)\n",
      "Requirement already satisfied: requests>=2.19.0 in c:\\users\\rober\\anaconda3\\lib\\site-packages (from pandas-datareader) (2.28.1)\n",
      "Requirement already satisfied: pytz>=2017.3 in c:\\users\\rober\\anaconda3\\lib\\site-packages (from pandas>=0.23->pandas-datareader) (2021.1)\n",
      "Requirement already satisfied: numpy>=1.16.5 in c:\\users\\rober\\anaconda3\\lib\\site-packages (from pandas>=0.23->pandas-datareader) (1.20.1)\n",
      "Requirement already satisfied: python-dateutil>=2.7.3 in c:\\users\\rober\\anaconda3\\lib\\site-packages (from pandas>=0.23->pandas-datareader) (2.8.1)\n",
      "Requirement already satisfied: six>=1.5 in c:\\users\\rober\\anaconda3\\lib\\site-packages (from python-dateutil>=2.7.3->pandas>=0.23->pandas-datareader) (1.15.0)\n",
      "Requirement already satisfied: idna<4,>=2.5 in c:\\users\\rober\\anaconda3\\lib\\site-packages (from requests>=2.19.0->pandas-datareader) (2.10)\n",
      "Requirement already satisfied: certifi>=2017.4.17 in c:\\users\\rober\\anaconda3\\lib\\site-packages (from requests>=2.19.0->pandas-datareader) (2020.12.5)\n",
      "Requirement already satisfied: charset-normalizer<3,>=2 in c:\\users\\rober\\anaconda3\\lib\\site-packages (from requests>=2.19.0->pandas-datareader) (2.1.1)\n",
      "Requirement already satisfied: urllib3<1.27,>=1.21.1 in c:\\users\\rober\\anaconda3\\lib\\site-packages (from requests>=2.19.0->pandas-datareader) (1.26.4)\n"
     ]
    }
   ],
   "source": [
    "!pip install pandas-datareader"
   ]
  },
  {
   "cell_type": "code",
   "execution_count": 37,
   "id": "3f48e804",
   "metadata": {},
   "outputs": [],
   "source": [
    "import yfinance as yf\n",
    "import pandas_datareader as pdr"
   ]
  },
  {
   "cell_type": "code",
   "execution_count": 92,
   "id": "77587ad0",
   "metadata": {},
   "outputs": [],
   "source": [
    "gold = pdr.get_data_yahoo(\"GC=F\", start=\"01/01/2000\", end=\"01/01/2021\", interval=\"mo\")['Adj Close']\n",
    "nyse = pdr.get_data_yahoo(\"^NYA\", start=\"01/01/2000\", end=\"01/01/2021\", interval=\"mo\")['Adj Close']"
   ]
  },
  {
   "cell_type": "code",
   "execution_count": 93,
   "id": "e529f874",
   "metadata": {},
   "outputs": [],
   "source": [
    "g_y = gold.groupby(pd.Grouper(freq='1Y')).mean()\n",
    "n_y = nyse.groupby(pd.Grouper(freq='1Y')).mean()\n",
    "icp = pd.read_excel(\"../dados/icp.xls\",skiprows=3)"
   ]
  },
  {
   "cell_type": "code",
   "execution_count": 94,
   "id": "0f15c205",
   "metadata": {},
   "outputs": [],
   "source": [
    "def inflacao(pais):\n",
    "    x = icp[icp['Country Name']==pais].iloc[:,24:].T\n",
    "    x.columns = [pais]\n",
    "    x.index = x.index.astype(float)\n",
    "    return x"
   ]
  },
  {
   "cell_type": "code",
   "execution_count": 118,
   "id": "5d7cf873",
   "metadata": {},
   "outputs": [],
   "source": [
    "eua = inflacao('United States')\n",
    "eua2 = eua.loc[2000:].values.reshape(22)"
   ]
  },
  {
   "cell_type": "code",
   "execution_count": 130,
   "id": "581a4366",
   "metadata": {},
   "outputs": [],
   "source": [
    "uniao = pd.DataFrame([g_y.values,eua2,n_y.values]).T\n",
    "uniao.columns = columns=['Gold','IPC','NYSE']\n",
    "uniao.index = [i for i in range(2000,2022)]"
   ]
  },
  {
   "cell_type": "code",
   "execution_count": 186,
   "id": "b29811b0",
   "metadata": {},
   "outputs": [],
   "source": [
    "def calculo(par):\n",
    "    regr = LinearRegression()\n",
    "    regr.fit(uniao['IPC'].values.reshape(-1,1), uniao[par].values.reshape(-1,1))\n",
    "    a = regr.coef_[0][0]\n",
    "    y_pred = regr.predict(uniao['IPC'].values.reshape(-1,1))\n",
    "    r2 = r2_score(uniao[par].values.reshape(-1,1), y_pred)\n",
    "    return {\"alfa\":a,\"r2\":r2}"
   ]
  },
  {
   "cell_type": "markdown",
   "id": "84ef7250",
   "metadata": {},
   "source": [
    "a) Plote num mesmo gráfico a evolução do IPC, Ouro e NYSE pelo ano e depois do ouro por IPC e NYSE por IPC"
   ]
  },
  {
   "cell_type": "code",
   "execution_count": 174,
   "id": "a6c573a6",
   "metadata": {},
   "outputs": [
    {
     "data": {
      "image/png": "[encoded data removed]",
      "text/plain": [
       "<Figure size 432x288 with 1 Axes>"
      ]
     },
     "metadata": {
      "needs_background": "light"
     },
     "output_type": "display_data"
    }
   ],
   "source": [
    "plt.plot(uniao.index, uniao.IPC, uniao.index, uniao.Gold, uniao.index, uniao.NYSE)\n",
    "plt.title('Perfil de evolução anual do IPC, Ouro, NYSE')\n",
    "plt.grid(True)\n",
    "plt.legend(['IPC','Ouro','NYSE'])\n",
    "plt.xlabel('Ano')\n",
    "plt.show()"
   ]
  },
  {
   "cell_type": "code",
   "execution_count": 173,
   "id": "7a55422f",
   "metadata": {},
   "outputs": [
    {
     "data": {
      "image/png": "[encoded data removed]",
      "text/plain": [
       "<Figure size 1080x216 with 2 Axes>"
      ]
     },
     "metadata": {
      "needs_background": "light"
     },
     "output_type": "display_data"
    }
   ],
   "source": [
    "plt.figure(figsize=(15,3))\n",
    "plt.subplot(1, 2, 1)\n",
    "plt.plot(uniao.IPC, uniao.Gold)\n",
    "plt.xlabel('IPC')\n",
    "plt.title('Ouro por IPC')\n",
    "plt.grid(True)\n",
    "plt.subplot(1, 2, 2)\n",
    "plt.plot(uniao.IPC, uniao.NYSE,'r')\n",
    "plt.xlabel('IPC')\n",
    "plt.title('NYSE por IPC')\n",
    "plt.grid(True)\n",
    "plt.show()"
   ]
  },
  {
   "cell_type": "markdown",
   "id": "3b62b0e2",
   "metadata": {},
   "source": [
    "b) Supõe-se que um investimento funcione como proteção contra a inflação se seu preço e/ou \n",
    "sua taxa de retorno acompanha, pelo menos, a taxa de inflação. Para testar essa hipótese, \n",
    "ajuste o seguinte modelo, supondo que o diagrama de dispersão elaborado no item (a) sugiria que isso seja adequado:"
   ]
  },
  {
   "cell_type": "markdown",
   "id": "e24a2893",
   "metadata": {},
   "source": [
    "Preço do ourot = beta + alfa*IPCt + erro"
   ]
  },
  {
   "cell_type": "markdown",
   "id": "22968041",
   "metadata": {},
   "source": [
    "Índice NYSEt = beta + alfa*IPCt + erro"
   ]
  },
  {
   "cell_type": "code",
   "execution_count": 189,
   "id": "a5999ead",
   "metadata": {},
   "outputs": [
    {
     "data": {
      "text/plain": [
       "{'alfa': 36.16746021291681, 'r2': 0.8499205448677033}"
      ]
     },
     "execution_count": 189,
     "metadata": {},
     "output_type": "execute_result"
    }
   ],
   "source": [
    "calculo('Gold')"
   ]
  },
  {
   "cell_type": "code",
   "execution_count": 190,
   "id": "604cbe7c",
   "metadata": {},
   "outputs": [
    {
     "data": {
      "text/plain": [
       "{'alfa': 180.0873594122483, 'r2': 0.8121627943543444}"
      ]
     },
     "execution_count": 190,
     "metadata": {},
     "output_type": "execute_result"
    }
   ],
   "source": [
    "calculo('NYSE')"
   ]
  },
  {
   "cell_type": "markdown",
   "id": "c53d52f5",
   "metadata": {},
   "source": [
    "## Conclusão"
   ]
  },
  {
   "cell_type": "markdown",
   "id": "cc607ac3",
   "metadata": {},
   "source": [
    "O NYSE sofre maior aumento sob efeito da inflação, conforme o cálculo de alfa, supondo a hipótese de seguir o modelo linear, entre 2000 e 2021"
   ]
  },
  {
   "cell_type": "markdown",
   "id": "340d5058",
   "metadata": {},
   "source": [
    "## 3.23 - a dados do produto interno bruto (PIB) dos Estados Unidos no período 1959-2005."
   ]
  },
  {
   "cell_type": "markdown",
   "id": "e1eee7b9",
   "metadata": {},
   "source": [
    "a) Represente graficamente os dados do PIB em dólares correntes e em dólares constantes (de \n",
    "2000) em relação ao tempo."
   ]
  },
  {
   "cell_type": "markdown",
   "id": "09c56f61",
   "metadata": {},
   "source": [
    "Fonte: Economic Report of the President, 2007. Tabelas B-1 e B-2"
   ]
  },
  {
   "cell_type": "code",
   "execution_count": 191,
   "id": "3edbd63a",
   "metadata": {},
   "outputs": [],
   "source": [
    "PIB = pd.read_excel(\"../dados/PIB.xls\")"
   ]
  },
  {
   "cell_type": "code",
   "execution_count": 203,
   "id": "5d8dfdb9",
   "metadata": {},
   "outputs": [],
   "source": [
    "ind = [i for i in range(1,PIB.shape[0]+1)]\n",
    "PIB.index = ind"
   ]
  },
  {
   "cell_type": "code",
   "execution_count": 204,
   "id": "45790d38",
   "metadata": {},
   "outputs": [
    {
     "data": {
      "text/html": [
       "<div>\n",
       "<style scoped>\n",
       "    .dataframe tbody tr th:only-of-type {\n",
       "        vertical-align: middle;\n",
       "    }\n",
       "\n",
       "    .dataframe tbody tr th {\n",
       "        vertical-align: top;\n",
       "    }\n",
       "\n",
       "    .dataframe thead th {\n",
       "        text-align: right;\n",
       "    }\n",
       "</style>\n",
       "<table border=\"1\" class=\"dataframe\">\n",
       "  <thead>\n",
       "    <tr style=\"text-align: right;\">\n",
       "      <th></th>\n",
       "      <th>Ano</th>\n",
       "      <th>PIB Nominal</th>\n",
       "      <th>PIB real</th>\n",
       "    </tr>\n",
       "  </thead>\n",
       "  <tbody>\n",
       "    <tr>\n",
       "      <th>1</th>\n",
       "      <td>1959</td>\n",
       "      <td>506.6</td>\n",
       "      <td>2441.3</td>\n",
       "    </tr>\n",
       "    <tr>\n",
       "      <th>2</th>\n",
       "      <td>1960</td>\n",
       "      <td>526.4</td>\n",
       "      <td>2501.8</td>\n",
       "    </tr>\n",
       "    <tr>\n",
       "      <th>3</th>\n",
       "      <td>1961</td>\n",
       "      <td>544.7</td>\n",
       "      <td>2560.0</td>\n",
       "    </tr>\n",
       "    <tr>\n",
       "      <th>4</th>\n",
       "      <td>1962</td>\n",
       "      <td>585.6</td>\n",
       "      <td>2715.2</td>\n",
       "    </tr>\n",
       "    <tr>\n",
       "      <th>5</th>\n",
       "      <td>1963</td>\n",
       "      <td>617.7</td>\n",
       "      <td>2834.0</td>\n",
       "    </tr>\n",
       "  </tbody>\n",
       "</table>\n",
       "</div>"
      ],
      "text/plain": [
       "    Ano  PIB Nominal  PIB real\n",
       "1  1959        506.6    2441.3\n",
       "2  1960        526.4    2501.8\n",
       "3  1961        544.7    2560.0\n",
       "4  1962        585.6    2715.2\n",
       "5  1963        617.7    2834.0"
      ]
     },
     "execution_count": 204,
     "metadata": {},
     "output_type": "execute_result"
    }
   ],
   "source": [
    "PIB.head()"
   ]
  },
  {
   "cell_type": "code",
   "execution_count": 205,
   "id": "1fb4a6ef",
   "metadata": {},
   "outputs": [
    {
     "data": {
      "image/png": "[encoded data removed]",
      "text/plain": [
       "<Figure size 432x288 with 1 Axes>"
      ]
     },
     "metadata": {
      "needs_background": "light"
     },
     "output_type": "display_data"
    }
   ],
   "source": [
    "plt.plot(PIB.Ano, PIB['PIB Nominal'], PIB.Ano, PIB['PIB real'])\n",
    "plt.grid(True)\n",
    "plt.title('Evolução do PIB')\n",
    "plt.legend(['PIB Nominal','PIB real'])\n",
    "plt.xlabel('Ano')\n",
    "plt.ylabel('Valor em dólar corrente de 2000')\n",
    "plt.show()"
   ]
  },
  {
   "cell_type": "markdown",
   "id": "5bf528fc",
   "metadata": {},
   "source": [
    "b) Utilize o modelo linear para modelar o PIB por ano (considere o índice 1,2...até o fim)"
   ]
  },
  {
   "cell_type": "code",
   "execution_count": 206,
   "id": "858ba213",
   "metadata": {},
   "outputs": [],
   "source": [
    "def calculo2(par):\n",
    "    regr = LinearRegression()\n",
    "    regr.fit(PIB.index.values.reshape(-1,1), PIB[par].values.reshape(-1,1))\n",
    "    a = regr.coef_[0][0]\n",
    "    y_pred = regr.predict(PIB.index.values.reshape(-1,1))\n",
    "    r2 = r2_score(PIB[par].values.reshape(-1,1), y_pred)\n",
    "    return {\"alfa\":a,\"r2\":r2}"
   ]
  },
  {
   "cell_type": "code",
   "execution_count": 207,
   "id": "e77964ac",
   "metadata": {},
   "outputs": [
    {
     "data": {
      "text/plain": [
       "{'alfa': 180.2630781683626, 'r2': 0.9718174118731091}"
      ]
     },
     "execution_count": 207,
     "metadata": {},
     "output_type": "execute_result"
    }
   ],
   "source": [
    "calculo2('PIB real')"
   ]
  },
  {
   "cell_type": "code",
   "execution_count": 209,
   "id": "f64f664b",
   "metadata": {},
   "outputs": [
    {
     "data": {
      "text/plain": [
       "{'alfa': 252.57627197039776, 'r2': 0.9260480864370573}"
      ]
     },
     "execution_count": 209,
     "metadata": {},
     "output_type": "execute_result"
    }
   ],
   "source": [
    "calculo2('PIB Nominal')"
   ]
  },
  {
   "cell_type": "markdown",
   "id": "29c34d0d",
   "metadata": {},
   "source": [
    "R: O modelo é bem ajustado, tanto ao PIB real, como ao PIB nominal, com R2 superando a 0.9."
   ]
  },
  {
   "cell_type": "markdown",
   "id": "600b4637",
   "metadata": {},
   "source": [
    "#### c) Como você interpretaria alfa?"
   ]
  },
  {
   "cell_type": "markdown",
   "id": "915e877a",
   "metadata": {},
   "source": [
    "R: O valor de alfa pode ser interpretado como a variação do PIB por ano"
   ]
  },
  {
   "cell_type": "markdown",
   "id": "1c370543",
   "metadata": {},
   "source": [
    "### Conceitos"
   ]
  },
  {
   "cell_type": "markdown",
   "id": "31d6a6a2",
   "metadata": {},
   "source": [
    "PIB nominal: O PIB nominal considera somente os preços e valores de determinado produto ou serviço no momento em que foram produzidos"
   ]
  },
  {
   "cell_type": "markdown",
   "id": "42168434",
   "metadata": {},
   "source": [
    "PIB real: O indicador mede o volume físico de um produto ou serviço, ou seja, desconsidera a inflação do momento em que o item ou serviço foi produzido."
   ]
  },
  {
   "cell_type": "markdown",
   "id": "b306a92d",
   "metadata": {},
   "source": [
    "#### d)Se existe diferença entre o alfa estimado para o PIB nominal e para o alfa estimado para o PIB real, o que explica essa diferença"
   ]
  },
  {
   "cell_type": "markdown",
   "id": "6ce6fb2a",
   "metadata": {},
   "source": [
    "Essa diferença decorre da metodologia de cálculo dos PIBs. O PIB nominal considera os produtos finais e serviços em valor absoluto. Portanto, se a inflação daquele ano for muito elevada, o PIB pode subir muito, sem representar um crescimento econômico de fato. O PIB real não considera efeito da inflação nos preços. Assim, no caso americano, a taxa anual de aumento do PIB nominal foi muito maior do que o real, indicando que a inflação foi mais pujante, responsável por esse maior aumento."
   ]
  },
  {
   "cell_type": "code",
   "execution_count": null,
   "id": "8e7e6055",
   "metadata": {},
   "outputs": [],
   "source": []
  }
 ],
 "metadata": {
  "kernelspec": {
   "display_name": "Python 3",
   "language": "python",
   "name": "python3"
  },
  "language_info": {
   "codemirror_mode": {
    "name": "ipython",
    "version": 3
   },
   "file_extension": ".py",
   "mimetype": "text/x-python",
   "name": "python",
   "nbconvert_exporter": "python",
   "pygments_lexer": "ipython3",
   "version": "3.8.8"
  }
 },
 "nbformat": 4,
 "nbformat_minor": 5
}
