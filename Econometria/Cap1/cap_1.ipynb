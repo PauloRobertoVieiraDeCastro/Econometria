{
 "cells": [
  {
   "cell_type": "code",
   "execution_count": 116,
   "id": "65f88801",
   "metadata": {},
   "outputs": [],
   "source": [
    "import pandas as pd\n",
    "import numpy as np\n",
    "import matplotlib.pyplot as plt\n",
    "import seaborn as sns\n",
    "from sklearn.linear_model import LinearRegression"
   ]
  },
  {
   "cell_type": "markdown",
   "id": "1b0d3ce3",
   "metadata": {},
   "source": [
    "1 - Lendo os dados de índice de preços ao consumidor - Fonte: Banco Mundial"
   ]
  },
  {
   "cell_type": "code",
   "execution_count": 7,
   "id": "4dda321e",
   "metadata": {},
   "outputs": [],
   "source": [
    "icp = pd.read_excel(\"../dados/icp.xls\",skiprows=3)"
   ]
  },
  {
   "cell_type": "markdown",
   "id": "c9d6d5ec",
   "metadata": {},
   "source": [
    "Seelecionando os países do exercício 1 - EUA, Canadá, Japão, França, Alemanha, Itália e Reino Unido"
   ]
  },
  {
   "cell_type": "code",
   "execution_count": 85,
   "id": "9783652c",
   "metadata": {},
   "outputs": [],
   "source": [
    "def inflacao(pais):\n",
    "    x = icp[icp['Country Name']==pais].iloc[:,24:].T\n",
    "    x.columns = [pais]\n",
    "    x.index = x.index.astype(float)\n",
    "    return x"
   ]
  },
  {
   "cell_type": "code",
   "execution_count": 86,
   "id": "5a915f92",
   "metadata": {},
   "outputs": [],
   "source": [
    "eua = inflacao('United States')\n",
    "canada = inflacao('Canada')\n",
    "japao = inflacao('Japan')\n",
    "franca = inflacao('France')\n",
    "alemanha = inflacao('Germany')\n",
    "italia = inflacao('Italy')"
   ]
  },
  {
   "cell_type": "code",
   "execution_count": 136,
   "id": "1c335863",
   "metadata": {},
   "outputs": [
    {
     "data": {
      "text/html": [
       "<div>\n",
       "<style scoped>\n",
       "    .dataframe tbody tr th:only-of-type {\n",
       "        vertical-align: middle;\n",
       "    }\n",
       "\n",
       "    .dataframe tbody tr th {\n",
       "        vertical-align: top;\n",
       "    }\n",
       "\n",
       "    .dataframe thead th {\n",
       "        text-align: right;\n",
       "    }\n",
       "</style>\n",
       "<table border=\"1\" class=\"dataframe\">\n",
       "  <thead>\n",
       "    <tr style=\"text-align: right;\">\n",
       "      <th></th>\n",
       "      <th>United States</th>\n",
       "    </tr>\n",
       "  </thead>\n",
       "  <tbody>\n",
       "    <tr>\n",
       "      <th>1980.0</th>\n",
       "      <td>37.792366</td>\n",
       "    </tr>\n",
       "    <tr>\n",
       "      <th>1981.0</th>\n",
       "      <td>41.698100</td>\n",
       "    </tr>\n",
       "    <tr>\n",
       "      <th>1982.0</th>\n",
       "      <td>44.254788</td>\n",
       "    </tr>\n",
       "    <tr>\n",
       "      <th>1983.0</th>\n",
       "      <td>45.676445</td>\n",
       "    </tr>\n",
       "    <tr>\n",
       "      <th>1984.0</th>\n",
       "      <td>47.640776</td>\n",
       "    </tr>\n",
       "    <tr>\n",
       "      <th>1985.0</th>\n",
       "      <td>49.329949</td>\n",
       "    </tr>\n",
       "    <tr>\n",
       "      <th>1986.0</th>\n",
       "      <td>50.266255</td>\n",
       "    </tr>\n",
       "    <tr>\n",
       "      <th>1987.0</th>\n",
       "      <td>52.108294</td>\n",
       "    </tr>\n",
       "    <tr>\n",
       "      <th>1988.0</th>\n",
       "      <td>54.233135</td>\n",
       "    </tr>\n",
       "    <tr>\n",
       "      <th>1989.0</th>\n",
       "      <td>56.850970</td>\n",
       "    </tr>\n",
       "    <tr>\n",
       "      <th>1990.0</th>\n",
       "      <td>59.919760</td>\n",
       "    </tr>\n",
       "    <tr>\n",
       "      <th>1991.0</th>\n",
       "      <td>62.457341</td>\n",
       "    </tr>\n",
       "    <tr>\n",
       "      <th>1992.0</th>\n",
       "      <td>64.349061</td>\n",
       "    </tr>\n",
       "    <tr>\n",
       "      <th>1993.0</th>\n",
       "      <td>66.248425</td>\n",
       "    </tr>\n",
       "    <tr>\n",
       "      <th>1994.0</th>\n",
       "      <td>67.975813</td>\n",
       "    </tr>\n",
       "    <tr>\n",
       "      <th>1995.0</th>\n",
       "      <td>69.882820</td>\n",
       "    </tr>\n",
       "    <tr>\n",
       "      <th>1996.0</th>\n",
       "      <td>71.931229</td>\n",
       "    </tr>\n",
       "    <tr>\n",
       "      <th>1997.0</th>\n",
       "      <td>73.612758</td>\n",
       "    </tr>\n",
       "    <tr>\n",
       "      <th>1998.0</th>\n",
       "      <td>74.755433</td>\n",
       "    </tr>\n",
       "    <tr>\n",
       "      <th>1999.0</th>\n",
       "      <td>76.391102</td>\n",
       "    </tr>\n",
       "    <tr>\n",
       "      <th>2000.0</th>\n",
       "      <td>78.970721</td>\n",
       "    </tr>\n",
       "    <tr>\n",
       "      <th>2001.0</th>\n",
       "      <td>81.202568</td>\n",
       "    </tr>\n",
       "    <tr>\n",
       "      <th>2002.0</th>\n",
       "      <td>82.490467</td>\n",
       "    </tr>\n",
       "    <tr>\n",
       "      <th>2003.0</th>\n",
       "      <td>84.363079</td>\n",
       "    </tr>\n",
       "    <tr>\n",
       "      <th>2004.0</th>\n",
       "      <td>86.621678</td>\n",
       "    </tr>\n",
       "    <tr>\n",
       "      <th>2005.0</th>\n",
       "      <td>89.560532</td>\n",
       "    </tr>\n",
       "    <tr>\n",
       "      <th>2006.0</th>\n",
       "      <td>92.449705</td>\n",
       "    </tr>\n",
       "    <tr>\n",
       "      <th>2007.0</th>\n",
       "      <td>95.086992</td>\n",
       "    </tr>\n",
       "    <tr>\n",
       "      <th>2008.0</th>\n",
       "      <td>98.737477</td>\n",
       "    </tr>\n",
       "    <tr>\n",
       "      <th>2009.0</th>\n",
       "      <td>98.386420</td>\n",
       "    </tr>\n",
       "    <tr>\n",
       "      <th>2010.0</th>\n",
       "      <td>100.000000</td>\n",
       "    </tr>\n",
       "    <tr>\n",
       "      <th>2011.0</th>\n",
       "      <td>103.156842</td>\n",
       "    </tr>\n",
       "    <tr>\n",
       "      <th>2012.0</th>\n",
       "      <td>105.291505</td>\n",
       "    </tr>\n",
       "    <tr>\n",
       "      <th>2013.0</th>\n",
       "      <td>106.833849</td>\n",
       "    </tr>\n",
       "    <tr>\n",
       "      <th>2014.0</th>\n",
       "      <td>108.566932</td>\n",
       "    </tr>\n",
       "    <tr>\n",
       "      <th>2015.0</th>\n",
       "      <td>108.695722</td>\n",
       "    </tr>\n",
       "    <tr>\n",
       "      <th>2016.0</th>\n",
       "      <td>110.067009</td>\n",
       "    </tr>\n",
       "    <tr>\n",
       "      <th>2017.0</th>\n",
       "      <td>112.411557</td>\n",
       "    </tr>\n",
       "    <tr>\n",
       "      <th>2018.0</th>\n",
       "      <td>115.157303</td>\n",
       "    </tr>\n",
       "    <tr>\n",
       "      <th>2019.0</th>\n",
       "      <td>117.244195</td>\n",
       "    </tr>\n",
       "    <tr>\n",
       "      <th>2020.0</th>\n",
       "      <td>118.690502</td>\n",
       "    </tr>\n",
       "    <tr>\n",
       "      <th>2021.0</th>\n",
       "      <td>124.266414</td>\n",
       "    </tr>\n",
       "  </tbody>\n",
       "</table>\n",
       "</div>"
      ],
      "text/plain": [
       "        United States\n",
       "1980.0      37.792366\n",
       "1981.0      41.698100\n",
       "1982.0      44.254788\n",
       "1983.0      45.676445\n",
       "1984.0      47.640776\n",
       "1985.0      49.329949\n",
       "1986.0      50.266255\n",
       "1987.0      52.108294\n",
       "1988.0      54.233135\n",
       "1989.0      56.850970\n",
       "1990.0      59.919760\n",
       "1991.0      62.457341\n",
       "1992.0      64.349061\n",
       "1993.0      66.248425\n",
       "1994.0      67.975813\n",
       "1995.0      69.882820\n",
       "1996.0      71.931229\n",
       "1997.0      73.612758\n",
       "1998.0      74.755433\n",
       "1999.0      76.391102\n",
       "2000.0      78.970721\n",
       "2001.0      81.202568\n",
       "2002.0      82.490467\n",
       "2003.0      84.363079\n",
       "2004.0      86.621678\n",
       "2005.0      89.560532\n",
       "2006.0      92.449705\n",
       "2007.0      95.086992\n",
       "2008.0      98.737477\n",
       "2009.0      98.386420\n",
       "2010.0     100.000000\n",
       "2011.0     103.156842\n",
       "2012.0     105.291505\n",
       "2013.0     106.833849\n",
       "2014.0     108.566932\n",
       "2015.0     108.695722\n",
       "2016.0     110.067009\n",
       "2017.0     112.411557\n",
       "2018.0     115.157303\n",
       "2019.0     117.244195\n",
       "2020.0     118.690502\n",
       "2021.0     124.266414"
      ]
     },
     "execution_count": 136,
     "metadata": {},
     "output_type": "execute_result"
    }
   ],
   "source": [
    "eua"
   ]
  },
  {
   "cell_type": "markdown",
   "id": "95817632",
   "metadata": {},
   "source": [
    "a) Determine a taxa de inflação de cada país"
   ]
  },
  {
   "cell_type": "code",
   "execution_count": 130,
   "id": "9ee9773b",
   "metadata": {},
   "outputs": [],
   "source": [
    "def calculo(x,):\n",
    "    regr = LinearRegression()\n",
    "    regr.fit(np.array(x.index).reshape(42,1), x.values)\n",
    "    pais = x.columns[0]\n",
    "    a = regr.coef_[0][0]\n",
    "    return \"Inflação do {} é de {:.2f}% ao ano\".format(pais,a)"
   ]
  },
  {
   "cell_type": "code",
   "execution_count": 134,
   "id": "a36cdc13",
   "metadata": {},
   "outputs": [
    {
     "name": "stdout",
     "output_type": "stream",
     "text": [
      "Inflação dos United States é de 2.02% ao ano\n",
      "Inflação dos Japan é de 0.49% ao ano\n",
      "Inflação dos Canada é de 1.84% ao ano\n",
      "Inflação dos France é de 1.57% ao ano\n",
      "Inflação dos Germany é de 1.51% ao ano\n",
      "Inflação dos Italy é de 2.17% ao ano\n"
     ]
    }
   ],
   "source": [
    "print(calculo(eua))\n",
    "print(calculo(japao))\n",
    "print(calculo(canada))\n",
    "print(calculo(franca))\n",
    "print(calculo(alemanha))\n",
    "print(calculo(italia))"
   ]
  },
  {
   "cell_type": "code",
   "execution_count": null,
   "id": "1b24c7c2",
   "metadata": {},
   "outputs": [],
   "source": []
  },
  {
   "cell_type": "markdown",
   "id": "063336e7",
   "metadata": {},
   "source": [
    "b) Plote a curva de IPC pelo tempo"
   ]
  },
  {
   "cell_type": "code",
   "execution_count": 135,
   "id": "53c94988",
   "metadata": {},
   "outputs": [
    {
     "data": {
      "image/png": "[encoded data removed]",
      "text/plain": [
       "<Figure size 1584x936 with 6 Axes>"
      ]
     },
     "metadata": {
      "needs_background": "light"
     },
     "output_type": "display_data"
    }
   ],
   "source": [
    "plt.figure(figsize=(22,13))\n",
    "plt.subplot(2, 3, 1)\n",
    "plt.xticks(rotation=45)\n",
    "plt.title('EUA')\n",
    "plt.plot(eua,'y')\n",
    "plt.grid(True)\n",
    "plt.subplot(2, 3, 2)\n",
    "plt.xticks(rotation=45)\n",
    "plt.title('Canada')\n",
    "plt.plot(canada,'r')\n",
    "plt.grid(True)\n",
    "plt.subplot(2, 3, 3)\n",
    "plt.title('Japão')\n",
    "plt.xticks(rotation=45)\n",
    "plt.plot(japao,'c')\n",
    "plt.grid(True)\n",
    "plt.subplot(2, 3, 4)\n",
    "plt.xticks(rotation=45)\n",
    "plt.title('França')\n",
    "plt.plot(franca,'b')\n",
    "plt.grid(True)\n",
    "plt.subplot(2, 3, 5)\n",
    "plt.xticks(rotation=45)\n",
    "plt.title('Alemanha')\n",
    "plt.plot(alemanha,'k')\n",
    "plt.grid(True)\n",
    "plt.subplot(2, 3, 6)\n",
    "plt.xticks(rotation=45)\n",
    "plt.title('Itália')\n",
    "plt.plot(italia,'g')\n",
    "plt.grid(True)\n",
    "plt.show()"
   ]
  },
  {
   "cell_type": "markdown",
   "id": "4c5208e4",
   "metadata": {},
   "source": [
    "c) Qual conclusão podemos tirar sobre a inflação de cada país?"
   ]
  },
  {
   "cell_type": "markdown",
   "id": "6942d0d9",
   "metadata": {},
   "source": [
    "R: É uma evolução constante e similar nos países do G7, similar a uma reta. A exceção é o Japão, que teve uma rápida subida na década de 80 e depois uma estabilizada até hoje."
   ]
  },
  {
   "cell_type": "code",
   "execution_count": null,
   "id": "02240dc2",
   "metadata": {},
   "outputs": [],
   "source": []
  }
 ],
 "metadata": {
  "kernelspec": {
   "display_name": "Python 3",
   "language": "python",
   "name": "python3"
  },
  "language_info": {
   "codemirror_mode": {
    "name": "ipython",
    "version": 3
   },
   "file_extension": ".py",
   "mimetype": "text/x-python",
   "name": "python",
   "nbconvert_exporter": "python",
   "pygments_lexer": "ipython3",
   "version": "3.8.8"
  }
 },
 "nbformat": 4,
 "nbformat_minor": 5
}
